{
 "cells": [
  {
   "cell_type": "code",
   "execution_count": 1,
   "metadata": {
    "collapsed": true
   },
   "outputs": [
    {
     "name": "stderr",
     "output_type": "stream",
     "text": [
      "2022-12-31 20:19:45.144780: I tensorflow/core/platform/cpu_feature_guard.cc:193] This TensorFlow binary is optimized with oneAPI Deep Neural Network Library (oneDNN) to use the following CPU instructions in performance-critical operations:  AVX2 FMA\n",
      "To enable them in other operations, rebuild TensorFlow with the appropriate compiler flags.\n",
      "2022-12-31 20:19:45.258769: W tensorflow/compiler/xla/stream_executor/platform/default/dso_loader.cc:64] Could not load dynamic library 'libcudart.so.11.0'; dlerror: libcudart.so.11.0: cannot open shared object file: No such file or directory; LD_LIBRARY_PATH: \n",
      "2022-12-31 20:19:45.258794: I tensorflow/compiler/xla/stream_executor/cuda/cudart_stub.cc:29] Ignore above cudart dlerror if you do not have a GPU set up on your machine.\n",
      "2022-12-31 20:19:45.999841: W tensorflow/compiler/xla/stream_executor/platform/default/dso_loader.cc:64] Could not load dynamic library 'libnvinfer.so.7'; dlerror: libnvinfer.so.7: cannot open shared object file: No such file or directory; LD_LIBRARY_PATH: \n",
      "2022-12-31 20:19:45.999889: W tensorflow/compiler/xla/stream_executor/platform/default/dso_loader.cc:64] Could not load dynamic library 'libnvinfer_plugin.so.7'; dlerror: libnvinfer_plugin.so.7: cannot open shared object file: No such file or directory; LD_LIBRARY_PATH: \n",
      "2022-12-31 20:19:45.999895: W tensorflow/compiler/tf2tensorrt/utils/py_utils.cc:38] TF-TRT Warning: Cannot dlopen some TensorRT libraries. If you would like to use Nvidia GPU with TensorRT, please make sure the missing libraries mentioned above are installed properly.\n"
     ]
    }
   ],
   "source": [
    "import tensorflow as tf\n",
    "import numpy as np\n",
    "from network import Network\n",
    "from pinn import Pinn\n",
    "from optimizer import L_BFGS_B"
   ]
  },
  {
   "cell_type": "code",
   "execution_count": 2,
   "outputs": [
    {
     "name": "stderr",
     "output_type": "stream",
     "text": [
      "2022-12-31 20:19:56.783402: W tensorflow/compiler/xla/stream_executor/platform/default/dso_loader.cc:64] Could not load dynamic library 'libcuda.so.1'; dlerror: libcuda.so.1: cannot open shared object file: No such file or directory; LD_LIBRARY_PATH: \n",
      "2022-12-31 20:19:56.783432: W tensorflow/compiler/xla/stream_executor/cuda/cuda_driver.cc:265] failed call to cuInit: UNKNOWN ERROR (303)\n",
      "2022-12-31 20:19:56.783452: I tensorflow/compiler/xla/stream_executor/cuda/cuda_diagnostics.cc:156] kernel driver does not appear to be running on this host (noel-IdeaPad-3-15ALC6): /proc/driver/nvidia/version does not exist\n",
      "2022-12-31 20:19:56.783774: I tensorflow/core/platform/cpu_feature_guard.cc:193] This TensorFlow binary is optimized with oneAPI Deep Neural Network Library (oneDNN) to use the following CPU instructions in performance-critical operations:  AVX2 FMA\n",
      "To enable them in other operations, rebuild TensorFlow with the appropriate compiler flags.\n"
     ]
    }
   ],
   "source": [
    "N_train = 3000\n",
    "N_test = 1000\n",
    "\n",
    "t = tf.random.uniform((N_train, 1), 0, 1)\n",
    "x = tf.random.uniform((N_train, 1), -1, 1)\n",
    "tx = tf.concat([t, x], axis=1)\n",
    "\n",
    "t0 = tf.zeros((N_train, 1))\n",
    "x0 = tf.random.uniform((N_train, 1), -1, 1)\n",
    "tx0 = tf.concat([t0, x0], axis=1)\n",
    "\n",
    "tb = tf.random.uniform((N_train, 1), 0, 4)\n",
    "xb = -1 + 2*tf.keras.backend.random_bernoulli((N_train, 1), p=0.5)\n",
    "txb = tf.concat([tb, xb], axis=1)\n",
    "\n",
    "inputs = [tx, tx0, txb]"
   ],
   "metadata": {
    "collapsed": false
   }
  },
  {
   "cell_type": "code",
   "execution_count": 3,
   "outputs": [],
   "source": [
    "def u0fun(tx, a=np.pi):\n",
    "    t, x = tx[..., 0, None], tx[..., 1, None]\n",
    "    return np.sin(a*x)"
   ],
   "metadata": {
    "collapsed": false
   }
  },
  {
   "cell_type": "code",
   "execution_count": 4,
   "outputs": [],
   "source": [
    "res = np.zeros((N_train, 1))\n",
    "u0 = u0fun(tx0)\n",
    "# u_t0 = np.zeros((N_train, 1))  # Not necessary, in theory\n",
    "u_b = np.zeros((N_train, 1))\n",
    "\n",
    "outputs = [res, res, u0, u_b]"
   ],
   "metadata": {
    "collapsed": false
   }
  },
  {
   "cell_type": "code",
   "execution_count": 5,
   "outputs": [],
   "source": [
    "model = Network.build(hid_neurons=[16])\n",
    "pinn = Pinn(model, c=1.0).pinn\n",
    "solver = L_BFGS_B(model=pinn, x_train=inputs, y_train=outputs, maxiter=80, factr=2.5e3)"
   ],
   "metadata": {
    "collapsed": false
   }
  },
  {
   "cell_type": "code",
   "execution_count": 6,
   "outputs": [],
   "source": [
    "pinn.compile(optimizer='adam', loss='mse')"
   ],
   "metadata": {
    "collapsed": false
   }
  },
  {
   "cell_type": "code",
   "execution_count": 7,
   "outputs": [
    {
     "name": "stdout",
     "output_type": "stream",
     "text": [
      "Epoch 1/100\n",
      "WARNING:tensorflow:Gradients do not exist for variables ['dense_2/bias:0'] when minimizing the loss. If you're using `model.compile()`, did you forget to provide a `loss` argument?\n",
      "WARNING:tensorflow:Gradients do not exist for variables ['dense_2/bias:0'] when minimizing the loss. If you're using `model.compile()`, did you forget to provide a `loss` argument?\n",
      "WARNING:tensorflow:Gradients do not exist for variables ['dense_2/bias:0'] when minimizing the loss. If you're using `model.compile()`, did you forget to provide a `loss` argument?\n",
      "WARNING:tensorflow:Gradients do not exist for variables ['dense_2/bias:0'] when minimizing the loss. If you're using `model.compile()`, did you forget to provide a `loss` argument?\n",
      "94/94 [==============================] - 6s 2ms/step - loss: 5.3328 - tf.__operators__.add_loss: 2.4903 - tf.math.subtract_loss: 0.2793 - gradient_layer_loss: 0.5417 - gradient_layer_1_loss: 2.0213\n",
      "Epoch 2/100\n",
      "94/94 [==============================] - 0s 3ms/step - loss: 1.3200 - tf.__operators__.add_loss: 0.4258 - tf.math.subtract_loss: 0.1638 - gradient_layer_loss: 0.4504 - gradient_layer_1_loss: 0.2800\n",
      "Epoch 3/100\n",
      "94/94 [==============================] - 0s 3ms/step - loss: 0.6226 - tf.__operators__.add_loss: 0.0945 - tf.math.subtract_loss: 0.1021 - gradient_layer_loss: 0.3699 - gradient_layer_1_loss: 0.0561\n",
      "Epoch 4/100\n",
      "94/94 [==============================] - 0s 3ms/step - loss: 0.4666 - tf.__operators__.add_loss: 0.0401 - tf.math.subtract_loss: 0.0690 - gradient_layer_loss: 0.3131 - gradient_layer_1_loss: 0.0445\n",
      "Epoch 5/100\n",
      "94/94 [==============================] - 0s 3ms/step - loss: 0.4041 - tf.__operators__.add_loss: 0.0259 - tf.math.subtract_loss: 0.0534 - gradient_layer_loss: 0.2809 - gradient_layer_1_loss: 0.0439\n",
      "Epoch 6/100\n",
      "94/94 [==============================] - 0s 2ms/step - loss: 0.3670 - tf.__operators__.add_loss: 0.0204 - tf.math.subtract_loss: 0.0444 - gradient_layer_loss: 0.2586 - gradient_layer_1_loss: 0.0437\n",
      "Epoch 7/100\n",
      "94/94 [==============================] - 0s 3ms/step - loss: 0.3403 - tf.__operators__.add_loss: 0.0163 - tf.math.subtract_loss: 0.0375 - gradient_layer_loss: 0.2437 - gradient_layer_1_loss: 0.0428\n",
      "Epoch 8/100\n",
      "94/94 [==============================] - 0s 3ms/step - loss: 0.3195 - tf.__operators__.add_loss: 0.0136 - tf.math.subtract_loss: 0.0308 - gradient_layer_loss: 0.2344 - gradient_layer_1_loss: 0.0407\n",
      "Epoch 9/100\n",
      "94/94 [==============================] - 0s 3ms/step - loss: 0.3031 - tf.__operators__.add_loss: 0.0115 - tf.math.subtract_loss: 0.0258 - gradient_layer_loss: 0.2261 - gradient_layer_1_loss: 0.0397\n",
      "Epoch 10/100\n",
      "94/94 [==============================] - 0s 3ms/step - loss: 0.2900 - tf.__operators__.add_loss: 0.0100 - tf.math.subtract_loss: 0.0216 - gradient_layer_loss: 0.2195 - gradient_layer_1_loss: 0.0389\n",
      "Epoch 11/100\n",
      "94/94 [==============================] - 0s 3ms/step - loss: 0.2795 - tf.__operators__.add_loss: 0.0088 - tf.math.subtract_loss: 0.0186 - gradient_layer_loss: 0.2132 - gradient_layer_1_loss: 0.0389\n",
      "Epoch 12/100\n",
      "94/94 [==============================] - 0s 3ms/step - loss: 0.2712 - tf.__operators__.add_loss: 0.0080 - tf.math.subtract_loss: 0.0162 - gradient_layer_loss: 0.2070 - gradient_layer_1_loss: 0.0400\n",
      "Epoch 13/100\n",
      "94/94 [==============================] - 0s 3ms/step - loss: 0.2643 - tf.__operators__.add_loss: 0.0072 - tf.math.subtract_loss: 0.0140 - gradient_layer_loss: 0.2037 - gradient_layer_1_loss: 0.0395\n",
      "Epoch 14/100\n",
      "94/94 [==============================] - 0s 3ms/step - loss: 0.2589 - tf.__operators__.add_loss: 0.0067 - tf.math.subtract_loss: 0.0126 - gradient_layer_loss: 0.1998 - gradient_layer_1_loss: 0.0398\n",
      "Epoch 15/100\n",
      "94/94 [==============================] - 0s 3ms/step - loss: 0.2542 - tf.__operators__.add_loss: 0.0061 - tf.math.subtract_loss: 0.0114 - gradient_layer_loss: 0.1975 - gradient_layer_1_loss: 0.0392\n",
      "Epoch 16/100\n",
      "94/94 [==============================] - 0s 3ms/step - loss: 0.2505 - tf.__operators__.add_loss: 0.0058 - tf.math.subtract_loss: 0.0114 - gradient_layer_loss: 0.1933 - gradient_layer_1_loss: 0.0401\n",
      "Epoch 17/100\n",
      "94/94 [==============================] - 0s 3ms/step - loss: 0.2472 - tf.__operators__.add_loss: 0.0053 - tf.math.subtract_loss: 0.0109 - gradient_layer_loss: 0.1914 - gradient_layer_1_loss: 0.0396\n",
      "Epoch 18/100\n",
      "94/94 [==============================] - 0s 3ms/step - loss: 0.2445 - tf.__operators__.add_loss: 0.0050 - tf.math.subtract_loss: 0.0108 - gradient_layer_loss: 0.1890 - gradient_layer_1_loss: 0.0397\n",
      "Epoch 19/100\n",
      "94/94 [==============================] - 0s 3ms/step - loss: 0.2420 - tf.__operators__.add_loss: 0.0046 - tf.math.subtract_loss: 0.0109 - gradient_layer_loss: 0.1869 - gradient_layer_1_loss: 0.0396\n",
      "Epoch 20/100\n",
      "94/94 [==============================] - 0s 3ms/step - loss: 0.2401 - tf.__operators__.add_loss: 0.0043 - tf.math.subtract_loss: 0.0111 - gradient_layer_loss: 0.1855 - gradient_layer_1_loss: 0.0392\n",
      "Epoch 21/100\n",
      "94/94 [==============================] - 0s 3ms/step - loss: 0.2382 - tf.__operators__.add_loss: 0.0041 - tf.math.subtract_loss: 0.0114 - gradient_layer_loss: 0.1843 - gradient_layer_1_loss: 0.0384\n",
      "Epoch 22/100\n",
      "94/94 [==============================] - 0s 3ms/step - loss: 0.2363 - tf.__operators__.add_loss: 0.0039 - tf.math.subtract_loss: 0.0116 - gradient_layer_loss: 0.1817 - gradient_layer_1_loss: 0.0393\n",
      "Epoch 23/100\n",
      "94/94 [==============================] - 0s 3ms/step - loss: 0.2350 - tf.__operators__.add_loss: 0.0037 - tf.math.subtract_loss: 0.0120 - gradient_layer_loss: 0.1802 - gradient_layer_1_loss: 0.0391\n",
      "Epoch 24/100\n",
      "94/94 [==============================] - 0s 3ms/step - loss: 0.2336 - tf.__operators__.add_loss: 0.0034 - tf.math.subtract_loss: 0.0123 - gradient_layer_loss: 0.1809 - gradient_layer_1_loss: 0.0370\n",
      "Epoch 25/100\n",
      "94/94 [==============================] - 0s 3ms/step - loss: 0.2324 - tf.__operators__.add_loss: 0.0033 - tf.math.subtract_loss: 0.0127 - gradient_layer_loss: 0.1790 - gradient_layer_1_loss: 0.0375\n",
      "Epoch 26/100\n",
      "94/94 [==============================] - 0s 3ms/step - loss: 0.2313 - tf.__operators__.add_loss: 0.0033 - tf.math.subtract_loss: 0.0134 - gradient_layer_loss: 0.1762 - gradient_layer_1_loss: 0.0385\n",
      "Epoch 27/100\n",
      "94/94 [==============================] - 0s 3ms/step - loss: 0.2301 - tf.__operators__.add_loss: 0.0031 - tf.math.subtract_loss: 0.0131 - gradient_layer_loss: 0.1773 - gradient_layer_1_loss: 0.0366\n",
      "Epoch 28/100\n",
      "94/94 [==============================] - 0s 3ms/step - loss: 0.2289 - tf.__operators__.add_loss: 0.0030 - tf.math.subtract_loss: 0.0137 - gradient_layer_loss: 0.1741 - gradient_layer_1_loss: 0.0380\n",
      "Epoch 29/100\n",
      "94/94 [==============================] - 0s 3ms/step - loss: 0.2281 - tf.__operators__.add_loss: 0.0028 - tf.math.subtract_loss: 0.0139 - gradient_layer_loss: 0.1755 - gradient_layer_1_loss: 0.0359\n",
      "Epoch 30/100\n",
      "94/94 [==============================] - 0s 2ms/step - loss: 0.2271 - tf.__operators__.add_loss: 0.0028 - tf.math.subtract_loss: 0.0143 - gradient_layer_loss: 0.1739 - gradient_layer_1_loss: 0.0361\n",
      "Epoch 31/100\n",
      "94/94 [==============================] - 0s 3ms/step - loss: 0.2261 - tf.__operators__.add_loss: 0.0028 - tf.math.subtract_loss: 0.0144 - gradient_layer_loss: 0.1717 - gradient_layer_1_loss: 0.0372\n",
      "Epoch 32/100\n",
      "94/94 [==============================] - 0s 3ms/step - loss: 0.2252 - tf.__operators__.add_loss: 0.0028 - tf.math.subtract_loss: 0.0147 - gradient_layer_loss: 0.1723 - gradient_layer_1_loss: 0.0355\n",
      "Epoch 33/100\n",
      "94/94 [==============================] - 0s 3ms/step - loss: 0.2245 - tf.__operators__.add_loss: 0.0027 - tf.math.subtract_loss: 0.0151 - gradient_layer_loss: 0.1709 - gradient_layer_1_loss: 0.0358\n",
      "Epoch 34/100\n",
      "94/94 [==============================] - 0s 2ms/step - loss: 0.2233 - tf.__operators__.add_loss: 0.0027 - tf.math.subtract_loss: 0.0148 - gradient_layer_loss: 0.1694 - gradient_layer_1_loss: 0.0363\n",
      "Epoch 35/100\n",
      "94/94 [==============================] - 0s 2ms/step - loss: 0.2228 - tf.__operators__.add_loss: 0.0027 - tf.math.subtract_loss: 0.0151 - gradient_layer_loss: 0.1701 - gradient_layer_1_loss: 0.0350\n",
      "Epoch 36/100\n",
      "94/94 [==============================] - 0s 3ms/step - loss: 0.2215 - tf.__operators__.add_loss: 0.0027 - tf.math.subtract_loss: 0.0151 - gradient_layer_loss: 0.1688 - gradient_layer_1_loss: 0.0349\n",
      "Epoch 37/100\n",
      "94/94 [==============================] - 0s 3ms/step - loss: 0.2208 - tf.__operators__.add_loss: 0.0028 - tf.math.subtract_loss: 0.0155 - gradient_layer_loss: 0.1679 - gradient_layer_1_loss: 0.0345\n",
      "Epoch 38/100\n",
      "94/94 [==============================] - 0s 3ms/step - loss: 0.2198 - tf.__operators__.add_loss: 0.0028 - tf.math.subtract_loss: 0.0152 - gradient_layer_loss: 0.1682 - gradient_layer_1_loss: 0.0336\n",
      "Epoch 39/100\n",
      "94/94 [==============================] - 0s 3ms/step - loss: 0.2193 - tf.__operators__.add_loss: 0.0029 - tf.math.subtract_loss: 0.0157 - gradient_layer_loss: 0.1663 - gradient_layer_1_loss: 0.0344\n",
      "Epoch 40/100\n",
      "94/94 [==============================] - 0s 3ms/step - loss: 0.2183 - tf.__operators__.add_loss: 0.0029 - tf.math.subtract_loss: 0.0152 - gradient_layer_loss: 0.1665 - gradient_layer_1_loss: 0.0337\n",
      "Epoch 41/100\n",
      "94/94 [==============================] - 0s 3ms/step - loss: 0.2172 - tf.__operators__.add_loss: 0.0030 - tf.math.subtract_loss: 0.0159 - gradient_layer_loss: 0.1648 - gradient_layer_1_loss: 0.0336\n",
      "Epoch 42/100\n",
      "94/94 [==============================] - 0s 3ms/step - loss: 0.2169 - tf.__operators__.add_loss: 0.0031 - tf.math.subtract_loss: 0.0154 - gradient_layer_loss: 0.1649 - gradient_layer_1_loss: 0.0335\n",
      "Epoch 43/100\n",
      "94/94 [==============================] - 0s 3ms/step - loss: 0.2157 - tf.__operators__.add_loss: 0.0031 - tf.math.subtract_loss: 0.0157 - gradient_layer_loss: 0.1637 - gradient_layer_1_loss: 0.0332\n",
      "Epoch 44/100\n",
      "94/94 [==============================] - 0s 3ms/step - loss: 0.2149 - tf.__operators__.add_loss: 0.0032 - tf.math.subtract_loss: 0.0156 - gradient_layer_loss: 0.1633 - gradient_layer_1_loss: 0.0329\n",
      "Epoch 45/100\n",
      "94/94 [==============================] - 0s 2ms/step - loss: 0.2139 - tf.__operators__.add_loss: 0.0032 - tf.math.subtract_loss: 0.0155 - gradient_layer_loss: 0.1635 - gradient_layer_1_loss: 0.0317\n",
      "Epoch 46/100\n",
      "94/94 [==============================] - 0s 3ms/step - loss: 0.2128 - tf.__operators__.add_loss: 0.0033 - tf.math.subtract_loss: 0.0156 - gradient_layer_loss: 0.1618 - gradient_layer_1_loss: 0.0321\n",
      "Epoch 47/100\n",
      "94/94 [==============================] - 0s 3ms/step - loss: 0.2123 - tf.__operators__.add_loss: 0.0034 - tf.math.subtract_loss: 0.0155 - gradient_layer_loss: 0.1613 - gradient_layer_1_loss: 0.0320\n",
      "Epoch 48/100\n",
      "94/94 [==============================] - 0s 3ms/step - loss: 0.2111 - tf.__operators__.add_loss: 0.0034 - tf.math.subtract_loss: 0.0156 - gradient_layer_loss: 0.1602 - gradient_layer_1_loss: 0.0319\n",
      "Epoch 49/100\n",
      "94/94 [==============================] - 0s 2ms/step - loss: 0.2103 - tf.__operators__.add_loss: 0.0034 - tf.math.subtract_loss: 0.0154 - gradient_layer_loss: 0.1599 - gradient_layer_1_loss: 0.0315\n",
      "Epoch 50/100\n",
      "94/94 [==============================] - 0s 3ms/step - loss: 0.2095 - tf.__operators__.add_loss: 0.0036 - tf.math.subtract_loss: 0.0155 - gradient_layer_loss: 0.1591 - gradient_layer_1_loss: 0.0313\n",
      "Epoch 51/100\n",
      "94/94 [==============================] - 0s 3ms/step - loss: 0.2083 - tf.__operators__.add_loss: 0.0035 - tf.math.subtract_loss: 0.0156 - gradient_layer_loss: 0.1584 - gradient_layer_1_loss: 0.0308\n",
      "Epoch 52/100\n",
      "94/94 [==============================] - 0s 3ms/step - loss: 0.2073 - tf.__operators__.add_loss: 0.0035 - tf.math.subtract_loss: 0.0151 - gradient_layer_loss: 0.1582 - gradient_layer_1_loss: 0.0304\n",
      "Epoch 53/100\n",
      "94/94 [==============================] - 0s 2ms/step - loss: 0.2062 - tf.__operators__.add_loss: 0.0037 - tf.math.subtract_loss: 0.0151 - gradient_layer_loss: 0.1567 - gradient_layer_1_loss: 0.0307\n",
      "Epoch 54/100\n",
      "94/94 [==============================] - 0s 3ms/step - loss: 0.2051 - tf.__operators__.add_loss: 0.0036 - tf.math.subtract_loss: 0.0151 - gradient_layer_loss: 0.1560 - gradient_layer_1_loss: 0.0304\n",
      "Epoch 55/100\n",
      "94/94 [==============================] - 0s 3ms/step - loss: 0.2041 - tf.__operators__.add_loss: 0.0037 - tf.math.subtract_loss: 0.0150 - gradient_layer_loss: 0.1550 - gradient_layer_1_loss: 0.0305\n",
      "Epoch 56/100\n",
      "94/94 [==============================] - 0s 3ms/step - loss: 0.2035 - tf.__operators__.add_loss: 0.0037 - tf.math.subtract_loss: 0.0147 - gradient_layer_loss: 0.1553 - gradient_layer_1_loss: 0.0297\n",
      "Epoch 57/100\n",
      "94/94 [==============================] - 0s 3ms/step - loss: 0.2022 - tf.__operators__.add_loss: 0.0037 - tf.math.subtract_loss: 0.0149 - gradient_layer_loss: 0.1540 - gradient_layer_1_loss: 0.0296\n",
      "Epoch 58/100\n",
      "94/94 [==============================] - 0s 3ms/step - loss: 0.2009 - tf.__operators__.add_loss: 0.0037 - tf.math.subtract_loss: 0.0150 - gradient_layer_loss: 0.1531 - gradient_layer_1_loss: 0.0291\n",
      "Epoch 59/100\n",
      "94/94 [==============================] - 0s 3ms/step - loss: 0.1996 - tf.__operators__.add_loss: 0.0036 - tf.math.subtract_loss: 0.0145 - gradient_layer_loss: 0.1523 - gradient_layer_1_loss: 0.0292\n",
      "Epoch 60/100\n",
      "94/94 [==============================] - 0s 3ms/step - loss: 0.1983 - tf.__operators__.add_loss: 0.0036 - tf.math.subtract_loss: 0.0145 - gradient_layer_loss: 0.1518 - gradient_layer_1_loss: 0.0285\n",
      "Epoch 61/100\n",
      "94/94 [==============================] - 0s 3ms/step - loss: 0.1975 - tf.__operators__.add_loss: 0.0037 - tf.math.subtract_loss: 0.0147 - gradient_layer_loss: 0.1510 - gradient_layer_1_loss: 0.0282\n",
      "Epoch 62/100\n",
      "94/94 [==============================] - 0s 3ms/step - loss: 0.1966 - tf.__operators__.add_loss: 0.0037 - tf.math.subtract_loss: 0.0148 - gradient_layer_loss: 0.1492 - gradient_layer_1_loss: 0.0289\n",
      "Epoch 63/100\n",
      "94/94 [==============================] - 0s 3ms/step - loss: 0.1952 - tf.__operators__.add_loss: 0.0036 - tf.math.subtract_loss: 0.0142 - gradient_layer_loss: 0.1494 - gradient_layer_1_loss: 0.0281\n",
      "Epoch 64/100\n",
      "94/94 [==============================] - 0s 3ms/step - loss: 0.1941 - tf.__operators__.add_loss: 0.0037 - tf.math.subtract_loss: 0.0141 - gradient_layer_loss: 0.1485 - gradient_layer_1_loss: 0.0278\n",
      "Epoch 65/100\n",
      "94/94 [==============================] - 0s 3ms/step - loss: 0.1929 - tf.__operators__.add_loss: 0.0036 - tf.math.subtract_loss: 0.0142 - gradient_layer_loss: 0.1477 - gradient_layer_1_loss: 0.0274\n",
      "Epoch 66/100\n",
      "94/94 [==============================] - 0s 3ms/step - loss: 0.1923 - tf.__operators__.add_loss: 0.0036 - tf.math.subtract_loss: 0.0144 - gradient_layer_loss: 0.1467 - gradient_layer_1_loss: 0.0276\n",
      "Epoch 67/100\n",
      "94/94 [==============================] - 0s 3ms/step - loss: 0.1910 - tf.__operators__.add_loss: 0.0037 - tf.math.subtract_loss: 0.0139 - gradient_layer_loss: 0.1458 - gradient_layer_1_loss: 0.0276\n",
      "Epoch 68/100\n",
      "94/94 [==============================] - 0s 3ms/step - loss: 0.1900 - tf.__operators__.add_loss: 0.0035 - tf.math.subtract_loss: 0.0141 - gradient_layer_loss: 0.1452 - gradient_layer_1_loss: 0.0271\n",
      "Epoch 69/100\n",
      "94/94 [==============================] - 0s 3ms/step - loss: 0.1892 - tf.__operators__.add_loss: 0.0036 - tf.math.subtract_loss: 0.0143 - gradient_layer_loss: 0.1448 - gradient_layer_1_loss: 0.0265\n",
      "Epoch 70/100\n",
      "94/94 [==============================] - 0s 2ms/step - loss: 0.1877 - tf.__operators__.add_loss: 0.0037 - tf.math.subtract_loss: 0.0143 - gradient_layer_loss: 0.1427 - gradient_layer_1_loss: 0.0270\n",
      "Epoch 71/100\n",
      "94/94 [==============================] - 0s 3ms/step - loss: 0.1865 - tf.__operators__.add_loss: 0.0035 - tf.math.subtract_loss: 0.0140 - gradient_layer_loss: 0.1427 - gradient_layer_1_loss: 0.0263\n",
      "Epoch 72/100\n",
      "94/94 [==============================] - 0s 3ms/step - loss: 0.1857 - tf.__operators__.add_loss: 0.0035 - tf.math.subtract_loss: 0.0141 - gradient_layer_loss: 0.1420 - gradient_layer_1_loss: 0.0260\n",
      "Epoch 73/100\n",
      "94/94 [==============================] - 0s 3ms/step - loss: 0.1849 - tf.__operators__.add_loss: 0.0036 - tf.math.subtract_loss: 0.0143 - gradient_layer_loss: 0.1409 - gradient_layer_1_loss: 0.0261\n",
      "Epoch 74/100\n",
      "94/94 [==============================] - 0s 3ms/step - loss: 0.1837 - tf.__operators__.add_loss: 0.0035 - tf.math.subtract_loss: 0.0143 - gradient_layer_loss: 0.1401 - gradient_layer_1_loss: 0.0257\n",
      "Epoch 75/100\n",
      "94/94 [==============================] - 0s 3ms/step - loss: 0.1831 - tf.__operators__.add_loss: 0.0035 - tf.math.subtract_loss: 0.0144 - gradient_layer_loss: 0.1392 - gradient_layer_1_loss: 0.0260\n",
      "Epoch 76/100\n",
      "94/94 [==============================] - 0s 3ms/step - loss: 0.1818 - tf.__operators__.add_loss: 0.0036 - tf.math.subtract_loss: 0.0145 - gradient_layer_loss: 0.1378 - gradient_layer_1_loss: 0.0259\n",
      "Epoch 77/100\n",
      "94/94 [==============================] - 0s 3ms/step - loss: 0.1812 - tf.__operators__.add_loss: 0.0036 - tf.math.subtract_loss: 0.0145 - gradient_layer_loss: 0.1384 - gradient_layer_1_loss: 0.0246\n",
      "Epoch 78/100\n",
      "94/94 [==============================] - 0s 2ms/step - loss: 0.1801 - tf.__operators__.add_loss: 0.0035 - tf.math.subtract_loss: 0.0144 - gradient_layer_loss: 0.1366 - gradient_layer_1_loss: 0.0256\n",
      "Epoch 79/100\n",
      "94/94 [==============================] - 0s 3ms/step - loss: 0.1794 - tf.__operators__.add_loss: 0.0036 - tf.math.subtract_loss: 0.0148 - gradient_layer_loss: 0.1362 - gradient_layer_1_loss: 0.0248\n",
      "Epoch 80/100\n",
      "94/94 [==============================] - 0s 3ms/step - loss: 0.1782 - tf.__operators__.add_loss: 0.0037 - tf.math.subtract_loss: 0.0146 - gradient_layer_loss: 0.1353 - gradient_layer_1_loss: 0.0246\n",
      "Epoch 81/100\n",
      "94/94 [==============================] - 0s 3ms/step - loss: 0.1771 - tf.__operators__.add_loss: 0.0034 - tf.math.subtract_loss: 0.0147 - gradient_layer_loss: 0.1345 - gradient_layer_1_loss: 0.0245\n",
      "Epoch 82/100\n",
      "94/94 [==============================] - 0s 3ms/step - loss: 0.1763 - tf.__operators__.add_loss: 0.0035 - tf.math.subtract_loss: 0.0148 - gradient_layer_loss: 0.1337 - gradient_layer_1_loss: 0.0243\n",
      "Epoch 83/100\n",
      "94/94 [==============================] - 0s 3ms/step - loss: 0.1759 - tf.__operators__.add_loss: 0.0036 - tf.math.subtract_loss: 0.0154 - gradient_layer_loss: 0.1323 - gradient_layer_1_loss: 0.0246\n",
      "Epoch 84/100\n",
      "94/94 [==============================] - 0s 3ms/step - loss: 0.1747 - tf.__operators__.add_loss: 0.0035 - tf.math.subtract_loss: 0.0151 - gradient_layer_loss: 0.1325 - gradient_layer_1_loss: 0.0235\n",
      "Epoch 85/100\n",
      "94/94 [==============================] - 0s 3ms/step - loss: 0.1744 - tf.__operators__.add_loss: 0.0035 - tf.math.subtract_loss: 0.0153 - gradient_layer_loss: 0.1314 - gradient_layer_1_loss: 0.0242\n",
      "Epoch 86/100\n",
      "94/94 [==============================] - 0s 2ms/step - loss: 0.1725 - tf.__operators__.add_loss: 0.0035 - tf.math.subtract_loss: 0.0153 - gradient_layer_loss: 0.1304 - gradient_layer_1_loss: 0.0233\n",
      "Epoch 87/100\n",
      "94/94 [==============================] - 0s 3ms/step - loss: 0.1716 - tf.__operators__.add_loss: 0.0035 - tf.math.subtract_loss: 0.0156 - gradient_layer_loss: 0.1293 - gradient_layer_1_loss: 0.0232\n",
      "Epoch 88/100\n",
      "94/94 [==============================] - 0s 3ms/step - loss: 0.1718 - tf.__operators__.add_loss: 0.0036 - tf.math.subtract_loss: 0.0153 - gradient_layer_loss: 0.1290 - gradient_layer_1_loss: 0.0239\n",
      "Epoch 89/100\n",
      "94/94 [==============================] - 0s 3ms/step - loss: 0.1702 - tf.__operators__.add_loss: 0.0035 - tf.math.subtract_loss: 0.0153 - gradient_layer_loss: 0.1284 - gradient_layer_1_loss: 0.0230\n",
      "Epoch 90/100\n",
      "94/94 [==============================] - 0s 2ms/step - loss: 0.1698 - tf.__operators__.add_loss: 0.0036 - tf.math.subtract_loss: 0.0158 - gradient_layer_loss: 0.1272 - gradient_layer_1_loss: 0.0232\n",
      "Epoch 91/100\n",
      "94/94 [==============================] - 0s 3ms/step - loss: 0.1687 - tf.__operators__.add_loss: 0.0036 - tf.math.subtract_loss: 0.0158 - gradient_layer_loss: 0.1269 - gradient_layer_1_loss: 0.0224\n",
      "Epoch 92/100\n",
      "94/94 [==============================] - 0s 3ms/step - loss: 0.1677 - tf.__operators__.add_loss: 0.0034 - tf.math.subtract_loss: 0.0157 - gradient_layer_loss: 0.1259 - gradient_layer_1_loss: 0.0227\n",
      "Epoch 93/100\n",
      "94/94 [==============================] - 0s 3ms/step - loss: 0.1675 - tf.__operators__.add_loss: 0.0037 - tf.math.subtract_loss: 0.0165 - gradient_layer_loss: 0.1250 - gradient_layer_1_loss: 0.0223\n",
      "Epoch 94/100\n",
      "94/94 [==============================] - 0s 3ms/step - loss: 0.1662 - tf.__operators__.add_loss: 0.0036 - tf.math.subtract_loss: 0.0160 - gradient_layer_loss: 0.1241 - gradient_layer_1_loss: 0.0225\n",
      "Epoch 95/100\n",
      "94/94 [==============================] - 0s 2ms/step - loss: 0.1655 - tf.__operators__.add_loss: 0.0037 - tf.math.subtract_loss: 0.0163 - gradient_layer_loss: 0.1235 - gradient_layer_1_loss: 0.0220\n",
      "Epoch 96/100\n",
      "94/94 [==============================] - 0s 3ms/step - loss: 0.1646 - tf.__operators__.add_loss: 0.0036 - tf.math.subtract_loss: 0.0164 - gradient_layer_loss: 0.1228 - gradient_layer_1_loss: 0.0217\n",
      "Epoch 97/100\n",
      "94/94 [==============================] - 0s 3ms/step - loss: 0.1639 - tf.__operators__.add_loss: 0.0036 - tf.math.subtract_loss: 0.0165 - gradient_layer_loss: 0.1215 - gradient_layer_1_loss: 0.0222\n",
      "Epoch 98/100\n",
      "94/94 [==============================] - 0s 3ms/step - loss: 0.1637 - tf.__operators__.add_loss: 0.0036 - tf.math.subtract_loss: 0.0170 - gradient_layer_loss: 0.1221 - gradient_layer_1_loss: 0.0211\n",
      "Epoch 99/100\n",
      "94/94 [==============================] - 0s 3ms/step - loss: 0.1624 - tf.__operators__.add_loss: 0.0037 - tf.math.subtract_loss: 0.0166 - gradient_layer_loss: 0.1208 - gradient_layer_1_loss: 0.0213\n",
      "Epoch 100/100\n",
      "94/94 [==============================] - 0s 3ms/step - loss: 0.1619 - tf.__operators__.add_loss: 0.0037 - tf.math.subtract_loss: 0.0165 - gradient_layer_loss: 0.1199 - gradient_layer_1_loss: 0.0218\n"
     ]
    },
    {
     "data": {
      "text/plain": "<keras.callbacks.History at 0x7faa6c27cc10>"
     },
     "execution_count": 7,
     "metadata": {},
     "output_type": "execute_result"
    }
   ],
   "source": [
    "pinn.fit(x=solver.x_train, y=solver.y_train, batch_size=32, epochs=100)"
   ],
   "metadata": {
    "collapsed": false
   }
  },
  {
   "cell_type": "code",
   "execution_count": null,
   "outputs": [],
   "source": [],
   "metadata": {
    "collapsed": false
   }
  }
 ],
 "metadata": {
  "kernelspec": {
   "display_name": "Python 3",
   "language": "python",
   "name": "python3"
  },
  "language_info": {
   "codemirror_mode": {
    "name": "ipython",
    "version": 2
   },
   "file_extension": ".py",
   "mimetype": "text/x-python",
   "name": "python",
   "nbconvert_exporter": "python",
   "pygments_lexer": "ipython2",
   "version": "2.7.6"
  }
 },
 "nbformat": 4,
 "nbformat_minor": 0
}
